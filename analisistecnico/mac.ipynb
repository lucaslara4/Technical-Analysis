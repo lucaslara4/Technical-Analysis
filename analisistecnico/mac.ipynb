{
 "cells": [
  {
   "cell_type": "markdown",
   "metadata": {},
   "source": [
    "# Moving Average Crossover Trading Strategy\n",
    "\n",
    "## How It Works\n",
    "\n",
    "The strategy utilizes two moving averages:\n",
    "\n",
    "- **Short-term Moving Average ($MA_{\\text{short}}$)**: calculated over a smaller window $n_s$ (e.g., 50 days).\n",
    "- **Long-term Moving Average ($MA_{\\text{long}}$)**: calculated over a larger window $n_l > n_s$ (e.g., 200 days).\n",
    "\n",
    "Formally:\n",
    "$$\n",
    "MA_{\\text{short}}(t) = \\frac{1}{n_s} \\sum_{k=0}^{n_s-1} P_{t-k}\n",
    "$$\n",
    "$$\n",
    "MA_{\\text{long}}(t) = \\frac{1}{n_l} \\sum_{k=0}^{n_l-1} P_{t-k}\n",
    "$$\n",
    "Where $P_t$ is the closing price at time $t$.\n",
    "\n",
    "## Trading Signals\n",
    "\n",
    "- **Buy Signal (\"Golden Cross\")**: when $MA_{\\text{short}}(t)$ crosses above $MA_{\\text{long}}(t)$.\n",
    "- **Sell Signal (\"Death Cross\")**: when $MA_{\\text{short}}(t)$ crosses below $MA_{\\text{long}}(t)$.\n",
    "\n",
    "### Signal Logic in Math\n",
    "\n",
    "$$\n",
    "\\begin{align*}\n",
    "\\text{Buy Signal:} \\quad & MA_{\\text{short}}(t-1) \\leq MA_{\\text{long}}(t-1) \\quad \\text{and} \\quad MA_{\\text{short}}(t) > MA_{\\text{long}}(t) \\\\\n",
    "\\text{Sell Signal:} \\quad & MA_{\\text{short}}(t-1) \\geq MA_{\\text{long}}(t-1) \\quad \\text{and} \\quad MA_{\\text{short}}(t) < MA_{\\text{long}}(t)\n",
    "\\end{align*}\n",
    "$$\n",
    "\n",
    "## Example Log Decision\n",
    "\n",
    "Every time a crossover event is detected, print:\n",
    "\n",
    "\n",
    "\n"
   ]
  },
  {
   "cell_type": "markdown",
   "metadata": {},
   "source": [
    "\n",
    "Where the signal is either \"Golden Cross\" (Buy) or \"Death Cross\" (Sell).\n",
    "\n",
    "## Considerations\n",
    "\n",
    "- The window sizes ($n_s$, $n_l$) influence signal frequency and sensitivity.\n",
    "- Larger $n_l$ smooth out noise but delay signals; smaller $n_s$ reacts faster but can cause false signals.\n",
    "- Detailed logs for each decision are crucial for debugging and backtesting.\n",
    "- Works the same on Mac, Windows, Linux; only package installation differs.\n",
    "\n"
   ]
  },
  {
   "cell_type": "markdown",
   "metadata": {},
   "source": [
    "![Moving Average Crossover Example](macexample.png)"
   ]
  },
  {
   "cell_type": "markdown",
   "metadata": {},
   "source": [
    "https://www.youtube.com/watch?v=IvvUbh-cnX4"
   ]
  },
  {
   "cell_type": "code",
   "execution_count": 3,
   "metadata": {},
   "outputs": [
    {
     "ename": "ModuleNotFoundError",
     "evalue": "No module named 'matplotlib'",
     "output_type": "error",
     "traceback": [
      "\u001b[31m---------------------------------------------------------------------------\u001b[39m",
      "\u001b[31mModuleNotFoundError\u001b[39m                       Traceback (most recent call last)",
      "\u001b[36mCell\u001b[39m\u001b[36m \u001b[39m\u001b[32mIn[3]\u001b[39m\u001b[32m, line 1\u001b[39m\n\u001b[32m----> \u001b[39m\u001b[32m1\u001b[39m \u001b[43mget_ipython\u001b[49m\u001b[43m(\u001b[49m\u001b[43m)\u001b[49m\u001b[43m.\u001b[49m\u001b[43mrun_line_magic\u001b[49m\u001b[43m(\u001b[49m\u001b[33;43m'\u001b[39;49m\u001b[33;43mmatplotlib\u001b[39;49m\u001b[33;43m'\u001b[39;49m\u001b[43m,\u001b[49m\u001b[43m \u001b[49m\u001b[33;43m'\u001b[39;49m\u001b[33;43minline\u001b[39;49m\u001b[33;43m'\u001b[39;49m\u001b[43m)\u001b[49m\n\u001b[32m      3\u001b[39m \u001b[38;5;28;01mimport\u001b[39;00m\u001b[38;5;250m \u001b[39m\u001b[34;01mpandas\u001b[39;00m\u001b[38;5;250m \u001b[39m\u001b[38;5;28;01mas\u001b[39;00m\u001b[38;5;250m \u001b[39m\u001b[34;01mpd\u001b[39;00m\n\u001b[32m      4\u001b[39m \u001b[38;5;28;01mimport\u001b[39;00m\u001b[38;5;250m \u001b[39m\u001b[34;01myfinance\u001b[39;00m\u001b[38;5;250m \u001b[39m\u001b[38;5;28;01mas\u001b[39;00m\u001b[38;5;250m \u001b[39m\u001b[34;01myf\u001b[39;00m\n",
      "\u001b[36mFile \u001b[39m\u001b[32m~/.pyenv/versions/3.11.10/lib/python3.11/site-packages/IPython/core/interactiveshell.py:2504\u001b[39m, in \u001b[36mInteractiveShell.run_line_magic\u001b[39m\u001b[34m(self, magic_name, line, _stack_depth)\u001b[39m\n\u001b[32m   2502\u001b[39m     kwargs[\u001b[33m'\u001b[39m\u001b[33mlocal_ns\u001b[39m\u001b[33m'\u001b[39m] = \u001b[38;5;28mself\u001b[39m.get_local_scope(stack_depth)\n\u001b[32m   2503\u001b[39m \u001b[38;5;28;01mwith\u001b[39;00m \u001b[38;5;28mself\u001b[39m.builtin_trap:\n\u001b[32m-> \u001b[39m\u001b[32m2504\u001b[39m     result = \u001b[43mfn\u001b[49m\u001b[43m(\u001b[49m\u001b[43m*\u001b[49m\u001b[43margs\u001b[49m\u001b[43m,\u001b[49m\u001b[43m \u001b[49m\u001b[43m*\u001b[49m\u001b[43m*\u001b[49m\u001b[43mkwargs\u001b[49m\u001b[43m)\u001b[49m\n\u001b[32m   2506\u001b[39m \u001b[38;5;66;03m# The code below prevents the output from being displayed\u001b[39;00m\n\u001b[32m   2507\u001b[39m \u001b[38;5;66;03m# when using magics with decorator @output_can_be_silenced\u001b[39;00m\n\u001b[32m   2508\u001b[39m \u001b[38;5;66;03m# when the last Python token in the expression is a ';'.\u001b[39;00m\n\u001b[32m   2509\u001b[39m \u001b[38;5;28;01mif\u001b[39;00m \u001b[38;5;28mgetattr\u001b[39m(fn, magic.MAGIC_OUTPUT_CAN_BE_SILENCED, \u001b[38;5;28;01mFalse\u001b[39;00m):\n",
      "\u001b[36mFile \u001b[39m\u001b[32m~/.pyenv/versions/3.11.10/lib/python3.11/site-packages/IPython/core/magics/pylab.py:103\u001b[39m, in \u001b[36mPylabMagics.matplotlib\u001b[39m\u001b[34m(self, line)\u001b[39m\n\u001b[32m     98\u001b[39m     \u001b[38;5;28mprint\u001b[39m(\n\u001b[32m     99\u001b[39m         \u001b[33m\"\u001b[39m\u001b[33mAvailable matplotlib backends: \u001b[39m\u001b[38;5;132;01m%s\u001b[39;00m\u001b[33m\"\u001b[39m\n\u001b[32m    100\u001b[39m         % _list_matplotlib_backends_and_gui_loops()\n\u001b[32m    101\u001b[39m     )\n\u001b[32m    102\u001b[39m \u001b[38;5;28;01melse\u001b[39;00m:\n\u001b[32m--> \u001b[39m\u001b[32m103\u001b[39m     gui, backend = \u001b[38;5;28;43mself\u001b[39;49m\u001b[43m.\u001b[49m\u001b[43mshell\u001b[49m\u001b[43m.\u001b[49m\u001b[43menable_matplotlib\u001b[49m\u001b[43m(\u001b[49m\u001b[43margs\u001b[49m\u001b[43m.\u001b[49m\u001b[43mgui\u001b[49m\u001b[43m)\u001b[49m\n\u001b[32m    104\u001b[39m     \u001b[38;5;28mself\u001b[39m._show_matplotlib_backend(args.gui, backend)\n",
      "\u001b[36mFile \u001b[39m\u001b[32m~/.pyenv/versions/3.11.10/lib/python3.11/site-packages/IPython/core/interactiveshell.py:3787\u001b[39m, in \u001b[36mInteractiveShell.enable_matplotlib\u001b[39m\u001b[34m(self, gui)\u001b[39m\n\u001b[32m   3784\u001b[39m     \u001b[38;5;28;01mimport\u001b[39;00m\u001b[38;5;250m \u001b[39m\u001b[34;01mmatplotlib_inline\u001b[39;00m\u001b[34;01m.\u001b[39;00m\u001b[34;01mbackend_inline\u001b[39;00m\n\u001b[32m   3786\u001b[39m \u001b[38;5;28;01mfrom\u001b[39;00m\u001b[38;5;250m \u001b[39m\u001b[34;01mIPython\u001b[39;00m\u001b[34;01m.\u001b[39;00m\u001b[34;01mcore\u001b[39;00m\u001b[38;5;250m \u001b[39m\u001b[38;5;28;01mimport\u001b[39;00m pylabtools \u001b[38;5;28;01mas\u001b[39;00m pt\n\u001b[32m-> \u001b[39m\u001b[32m3787\u001b[39m gui, backend = \u001b[43mpt\u001b[49m\u001b[43m.\u001b[49m\u001b[43mfind_gui_and_backend\u001b[49m\u001b[43m(\u001b[49m\u001b[43mgui\u001b[49m\u001b[43m,\u001b[49m\u001b[43m \u001b[49m\u001b[38;5;28;43mself\u001b[39;49m\u001b[43m.\u001b[49m\u001b[43mpylab_gui_select\u001b[49m\u001b[43m)\u001b[49m\n\u001b[32m   3789\u001b[39m \u001b[38;5;28;01mif\u001b[39;00m gui != \u001b[38;5;28;01mNone\u001b[39;00m:\n\u001b[32m   3790\u001b[39m     \u001b[38;5;66;03m# If we have our first gui selection, store it\u001b[39;00m\n\u001b[32m   3791\u001b[39m     \u001b[38;5;28;01mif\u001b[39;00m \u001b[38;5;28mself\u001b[39m.pylab_gui_select \u001b[38;5;129;01mis\u001b[39;00m \u001b[38;5;28;01mNone\u001b[39;00m:\n",
      "\u001b[36mFile \u001b[39m\u001b[32m~/.pyenv/versions/3.11.10/lib/python3.11/site-packages/IPython/core/pylabtools.py:338\u001b[39m, in \u001b[36mfind_gui_and_backend\u001b[39m\u001b[34m(gui, gui_select)\u001b[39m\n\u001b[32m    321\u001b[39m \u001b[38;5;28;01mdef\u001b[39;00m\u001b[38;5;250m \u001b[39m\u001b[34mfind_gui_and_backend\u001b[39m(gui=\u001b[38;5;28;01mNone\u001b[39;00m, gui_select=\u001b[38;5;28;01mNone\u001b[39;00m):\n\u001b[32m    322\u001b[39m \u001b[38;5;250m    \u001b[39m\u001b[33;03m\"\"\"Given a gui string return the gui and mpl backend.\u001b[39;00m\n\u001b[32m    323\u001b[39m \n\u001b[32m    324\u001b[39m \u001b[33;03m    Parameters\u001b[39;00m\n\u001b[32m   (...)\u001b[39m\u001b[32m    335\u001b[39m \u001b[33;03m    'WXAgg','Qt4Agg','module://matplotlib_inline.backend_inline','agg').\u001b[39;00m\n\u001b[32m    336\u001b[39m \u001b[33;03m    \"\"\"\u001b[39;00m\n\u001b[32m--> \u001b[39m\u001b[32m338\u001b[39m     \u001b[38;5;28;01mimport\u001b[39;00m\u001b[38;5;250m \u001b[39m\u001b[34;01mmatplotlib\u001b[39;00m\n\u001b[32m    340\u001b[39m     \u001b[38;5;28;01mif\u001b[39;00m _matplotlib_manages_backends():\n\u001b[32m    341\u001b[39m         backend_registry = matplotlib.backends.registry.backend_registry\n",
      "\u001b[31mModuleNotFoundError\u001b[39m: No module named 'matplotlib'"
     ]
    }
   ],
   "source": [
    "%matplotlib inline\n",
    "\n",
    "import pandas as pd\n",
    "import yfinance as yf\n",
    "import matplotlib.pyplot as plt\n",
    "\n",
    "# Parameters\n",
    "ticker = \"SOXL\"\n",
    "short_window = 50\n",
    "long_window = 200\n",
    "\n",
    "# Download historical data (último año)\n",
    "data = yf.download(ticker, period=\"1y\", interval=\"1d\", auto_adjust=True, progress=False)\n",
    "\n",
    "if data.empty:\n",
    "    print(f\"No data found for {ticker}. Please check the ticker or data source.\")\n",
    "else:\n",
    "    print(f\"Data for {ticker} downloaded with {len(data)} rows.\")\n",
    "\n",
    "    # Calculate Exponential Moving Averages (EMA)\n",
    "    data['Short_EMA'] = data['Close'].ewm(span=short_window, adjust=False).mean()\n",
    "    data['Long_EMA'] = data['Close'].ewm(span=long_window, adjust=False).mean()\n",
    "\n",
    "    in_position = False\n",
    "    trades = []\n",
    "\n",
    "    print(\"Date       | Close   | Short_EMA | Long_EMA | Signal       | Action\")\n",
    "    print(\"---------------------------------------------------------------\")\n",
    "\n",
    "    for i in range(1, len(data)):\n",
    "        row = data.iloc[i]\n",
    "        prev = data.iloc[i - 1]\n",
    "        date = row.name.date()\n",
    "        short_ema, long_ema = row['Short_EMA'], row['Long_EMA']\n",
    "        prev_short_ema, prev_long_ema = prev['Short_EMA'], prev['Long_EMA']\n",
    "        action = \"\"\n",
    "\n",
    "        if pd.notna(short_ema) and pd.notna(long_ema):\n",
    "            # Golden Cross\n",
    "            if short_ema > long_ema and prev_short_ema <= prev_long_ema:\n",
    "                action = \"BUY\"\n",
    "                in_position = True\n",
    "                print(f\"{date} | {row['Close']:.2f} | {short_ema:.2f} | {long_ema:.2f} | Golden Cross | {action}\")\n",
    "                trades.append({'date': date, 'type': 'BUY', 'price': row['Close']})\n",
    "            # Death Cross\n",
    "            elif short_ema < long_ema and prev_short_ema >= prev_long_ema:\n",
    "                if in_position:\n",
    "                    action = \"SELL\"\n",
    "                    in_position = False\n",
    "                    print(f\"{date} | {row['Close']:.2f} | {short_ema:.2f} | {long_ema:.2f} | Death Cross  | {action}\")\n",
    "                    trades.append({'date': date, 'type': 'SELL', 'price': row['Close']})\n",
    "\n",
    "    print(\"\\nTrade Log:\")\n",
    "    for t in trades:\n",
    "        print(f\"{t['date']} - {t['type']} at {t['price']}\")\n",
    "\n",
    "    # Plot results\n",
    "    plt.figure(figsize=(14, 7))\n",
    "    plt.plot(data['Close'], label='Close Price')\n",
    "    plt.plot(data['Short_EMA'], label=f'{short_window}-day EMA')\n",
    "    plt.plot(data['Long_EMA'], label=f'{long_window}-day EMA')\n",
    "    plt.title(f\"{ticker} Price and Exponential Moving Averages\")\n",
    "    plt.legend()\n",
    "    plt.grid(True)\n",
    "    plt.show()\n"
   ]
  },
  {
   "cell_type": "code",
   "execution_count": 11,
   "metadata": {},
   "outputs": [
    {
     "name": "stderr",
     "output_type": "stream",
     "text": [
      "[*********************100%***********************]  1 of 1 completed"
     ]
    },
    {
     "name": "stdout",
     "output_type": "stream",
     "text": [
      "Price           Close       High        Low   Open     Volume\n",
      "Ticker           SOXL       SOXL       SOXL   SOXL       SOXL\n",
      "Date                                                         \n",
      "2025-08-29  26.040001  27.350000  25.670000  27.32  108411300\n",
      "2025-09-02  25.250000  25.280001  23.799999  24.08  101906700\n",
      "2025-09-03  24.910000  25.410000  24.120001  25.41   79482200\n",
      "2025-09-04  25.650000  25.730000  23.980000  24.41   81641200\n",
      "2025-09-05  26.450001  26.969999  25.600000  26.82  110467500\n"
     ]
    },
    {
     "name": "stderr",
     "output_type": "stream",
     "text": [
      "\n"
     ]
    }
   ],
   "source": [
    "import yfinance as yf\n",
    "\n",
    "data = yf.download(\"SOXL\", period=\"5d\", interval=\"1d\", auto_adjust=True)\n",
    "print(data)\n"
   ]
  }
 ],
 "metadata": {
  "kernelspec": {
   "display_name": "3.11.10",
   "language": "python",
   "name": "python3"
  },
  "language_info": {
   "codemirror_mode": {
    "name": "ipython",
    "version": 3
   },
   "file_extension": ".py",
   "mimetype": "text/x-python",
   "name": "python",
   "nbconvert_exporter": "python",
   "pygments_lexer": "ipython3",
   "version": "3.11.10"
  }
 },
 "nbformat": 4,
 "nbformat_minor": 2
}
