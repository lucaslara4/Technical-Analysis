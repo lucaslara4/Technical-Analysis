version https://git-lfs.github.com/spec/v1
oid sha256:a63a616b86569f870d68aff715e7a7cd2d5c67e78e6cf54f4bf690b602333597
size 18965
